{
  "nbformat": 4,
  "nbformat_minor": 0,
  "metadata": {
    "colab": {
      "provenance": [],
      "authorship_tag": "ABX9TyMRIluCbMX2U+HD6xHGyEsB",
      "include_colab_link": true
    },
    "kernelspec": {
      "name": "python3",
      "display_name": "Python 3"
    },
    "language_info": {
      "name": "python"
    }
  },
  "cells": [
    {
      "cell_type": "markdown",
      "metadata": {
        "id": "view-in-github",
        "colab_type": "text"
      },
      "source": [
        "<a href=\"https://colab.research.google.com/github/Odera2023/label_encoding/blob/main/labelencoding.ipynb\" target=\"_parent\"><img src=\"https://colab.research.google.com/assets/colab-badge.svg\" alt=\"Open In Colab\"/></a>"
      ]
    },
    {
      "cell_type": "code",
      "source": [
        "from sklearn.preprocessing import LabelEncoder"
      ],
      "metadata": {
        "id": "21pPtw4qzx-S"
      },
      "execution_count": 9,
      "outputs": []
    },
    {
      "cell_type": "code",
      "source": [
        "# Data\n",
        "colors = ['Red', 'Green', 'Yellow', 'Red']\n",
        "# Initialize Label Encoder\n",
        "label_encoder = LabelEncoder()\n",
        "# Fit and Transform the data\n",
        "encoded_colors = label_encoder.fit_transform(colors)\n",
        "# Output\n",
        "print(\"Label Encoded:\", encoded_colors)"
      ],
      "metadata": {
        "colab": {
          "base_uri": "https://localhost:8080/"
        },
        "id": "7l_3dzmGz3fe",
        "outputId": "909fc42b-b02e-4f79-cf8d-3ed02993906b"
      },
      "execution_count": 12,
      "outputs": [
        {
          "output_type": "stream",
          "name": "stdout",
          "text": [
            "Label Encoded: [1 0 2 1]\n"
          ]
        }
      ]
    }
  ]
}